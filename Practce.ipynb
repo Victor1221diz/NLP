{
 "cells": [
  {
   "cell_type": "code",
   "execution_count": 1,
   "metadata": {},
   "outputs": [
    {
     "ename": "ModuleNotFoundError",
     "evalue": "No module named 'google.colab'",
     "output_type": "error",
     "traceback": [
      "\u001b[0;31m---------------------------------------------------------------------------\u001b[0m",
      "\u001b[0;31mModuleNotFoundError\u001b[0m                       Traceback (most recent call last)",
      "\u001b[1;32m/home/victor/Research/NLP/Practce.ipynb Cell 1\u001b[0m line \u001b[0;36m5\n\u001b[1;32m      <a href='vscode-notebook-cell:/home/victor/Research/NLP/Practce.ipynb#W0sZmlsZQ%3D%3D?line=2'>3</a>\u001b[0m \u001b[39mimport\u001b[39;00m \u001b[39mmatplotlib\u001b[39;00m\u001b[39m.\u001b[39;00m\u001b[39mpyplot\u001b[39;00m \u001b[39mas\u001b[39;00m \u001b[39mplt\u001b[39;00m\n\u001b[1;32m      <a href='vscode-notebook-cell:/home/victor/Research/NLP/Practce.ipynb#W0sZmlsZQ%3D%3D?line=3'>4</a>\u001b[0m \u001b[39mimport\u001b[39;00m \u001b[39mos\u001b[39;00m\n\u001b[0;32m----> <a href='vscode-notebook-cell:/home/victor/Research/NLP/Practce.ipynb#W0sZmlsZQ%3D%3D?line=4'>5</a>\u001b[0m \u001b[39mfrom\u001b[39;00m \u001b[39mgoogle\u001b[39;00m\u001b[39m.\u001b[39;00m\u001b[39mcolab\u001b[39;00m \u001b[39mimport\u001b[39;00m drive\n\u001b[1;32m      <a href='vscode-notebook-cell:/home/victor/Research/NLP/Practce.ipynb#W0sZmlsZQ%3D%3D?line=6'>7</a>\u001b[0m drive\u001b[39m.\u001b[39mmount(\u001b[39m'\u001b[39m\u001b[39m/content/drive\u001b[39m\u001b[39m'\u001b[39m)\n\u001b[1;32m      <a href='vscode-notebook-cell:/home/victor/Research/NLP/Practce.ipynb#W0sZmlsZQ%3D%3D?line=7'>8</a>\u001b[0m os\u001b[39m.\u001b[39mchdir(\u001b[39m'\u001b[39m\u001b[39m/content/drive/My Drive/\u001b[39m\u001b[39m'\u001b[39m)\n",
      "\u001b[0;31mModuleNotFoundError\u001b[0m: No module named 'google.colab'"
     ]
    }
   ],
   "source": [
    "# Placeholder functions for average and standard deviation\n",
    "def average(data):\n",
    "    return np.mean(data)\n",
    "\n",
    "def standard_deviation(data):\n",
    "    return np.std(data)\n",
    "\n",
    "def filter_wind_data(dataframe, angle1, angle2, min_speed, stats_funcs):\n",
    "    \"\"\"\n",
    "    Function to filter wind data based on angle boundaries and minimum speed\n",
    "    criteria and then compute statistics on the valid data.\n",
    "    \"\"\"\n",
    "    # Filter based on the angle boundaries and speed\n",
    "    filtered_df = dataframe[(dataframe['wind_direction'] >= angle1) & \n",
    "                            (dataframe['wind_direction'] <= angle2) &\n",
    "                            (dataframe['wind_speed'] > min_speed)]\n",
    "    \n",
    "    # Group by month and compute number of hours and statistical measures\n",
    "    grouped = filtered_df.groupby('month')\n",
    "    results = []\n",
    "    for name, group in grouped:\n",
    "        hours = len(group)\n",
    "        stats = [func(group['wind_speed']) for func in stats_funcs]\n",
    "        results.append([name, hours] + stats)\n",
    "\n",
    "    # Print the results\n",
    "    print(\"Month | Hours | Average Speed | Std. Deviation\")\n",
    "    print(\"----------------------------------------------\")\n",
    "    for row in results:\n",
    "        print(f\"{row[0]:5} | {row[1]:5} | {row[2]:13.2f} | {row[3]:14.2f}\")\n",
    "\n",
    "\n",
    "filter_wind_data(dataf, 0, 135, 7.5,standard_deviation )"
   ]
  },
  {
   "cell_type": "code",
   "execution_count": null,
   "metadata": {},
   "outputs": [],
   "source": []
  }
 ],
 "metadata": {
  "kernelspec": {
   "display_name": "Python 3",
   "language": "python",
   "name": "python3"
  },
  "language_info": {
   "codemirror_mode": {
    "name": "ipython",
    "version": 3
   },
   "file_extension": ".py",
   "mimetype": "text/x-python",
   "name": "python",
   "nbconvert_exporter": "python",
   "pygments_lexer": "ipython3",
   "version": "3.10.12"
  },
  "orig_nbformat": 4
 },
 "nbformat": 4,
 "nbformat_minor": 2
}
